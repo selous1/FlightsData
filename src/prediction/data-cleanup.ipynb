{
 "cells": [
  {
   "attachments": {},
   "cell_type": "markdown",
   "metadata": {},
   "source": [
    "# Data Science for prediction machine:\n",
    "\n",
    "The data in the database came somewhat scrambled\n",
    "\n",
    "Problems with the original data:\n",
    "1. Incomplete (some values were missing in some rows)\n",
    "2. There are ',' inside some of the string values (this is a comma separated list)\n",
    "3. The dataset came with both parquet and csv files\n",
    "\n",
    "The first approach was to use the csv data loaded to python with pandas. The problem was that each year had more than 1.5 to 2.5Gb of data *each* so no laptop with 16Gb of ram could load such a dataset **in memory**. This lead to a clear path, use chunking (with the help of [dask](https://www.dask.org/)). Unfortunately (or fortunately, as well see next) this did not work, the \"read\" dataframe did not contain all of the information. \n",
    "\n",
    "In trying to figure out if dask or the csv was the problem we tried to merge the data from 2 different years and get some data from it with linux tools (it seems that python does not like to parse and write more than 10 million records) such as [awk](https://en.wikipedia.org/wiki/AWK), [uniq](https://en.wikipedia.org/wiki/Uniq), etc... What we found was that some of the string data contained the same character that was used to as the separator in the file (','). \n",
    "\n",
    "So, after much work trying to wrangle the data in the csvs to no avail (no parser did the job correctly) we tried to see what these [.parquet](https://parquet.apache.org/) files were. As it seems they are a columnar file (from apache) that does not store all of the data as strings. What this does is reduce the size need to store the data manyfold. To give an example our dataset consisting of two years wasted 3.6Gb of space as csv but has parquet occupied just under 400Mb. Nothing is a silver bullet tho and, as a last gripe by the gods against me, while merging the two parquet files I found that the values of one single column were set as `int64` in one table and `float64` in another... Fortunately this had a decently straightforward solution (casting one of the tables according to the schema of the other).\n",
    "\n",
    "We can **finally** load the data into memory to see what it is..."
   ]
  },
  {
   "attachments": {},
   "cell_type": "markdown",
   "metadata": {},
   "source": [
    "# Todo:\n",
    "\n",
    "1. Understand what columns are import\n",
    "2. Remove the rest\n",
    "3. Save the new file and send it to BigQuery"
   ]
  },
  {
   "cell_type": "code",
   "execution_count": 1,
   "metadata": {},
   "outputs": [],
   "source": [
    "import pandas as pd\n",
    "import numpy as np"
   ]
  },
  {
   "cell_type": "code",
   "execution_count": 2,
   "metadata": {},
   "outputs": [],
   "source": [
    "# Lets load the dataset:\n",
    "flights = pd.read_parquet(\"../../dataset/flights.parquet\")"
   ]
  },
  {
   "cell_type": "code",
   "execution_count": 3,
   "metadata": {},
   "outputs": [
    {
     "data": {
      "text/plain": [
       "array(['FlightDate', 'Airline', 'Origin', 'Dest', 'Cancelled', 'Diverted',\n",
       "       'CRSDepTime', 'DepTime', 'DepDelayMinutes', 'DepDelay', 'ArrTime',\n",
       "       'ArrDelayMinutes', 'AirTime', 'CRSElapsedTime',\n",
       "       'ActualElapsedTime', 'Distance', 'Year', 'Quarter', 'Month',\n",
       "       'DayofMonth', 'DayOfWeek', 'Marketing_Airline_Network',\n",
       "       'Operated_or_Branded_Code_Share_Partners',\n",
       "       'DOT_ID_Marketing_Airline', 'IATA_Code_Marketing_Airline',\n",
       "       'Flight_Number_Marketing_Airline', 'Operating_Airline',\n",
       "       'DOT_ID_Operating_Airline', 'IATA_Code_Operating_Airline',\n",
       "       'Tail_Number', 'Flight_Number_Operating_Airline',\n",
       "       'OriginAirportID', 'OriginAirportSeqID', 'OriginCityMarketID',\n",
       "       'OriginCityName', 'OriginState', 'OriginStateFips',\n",
       "       'OriginStateName', 'OriginWac', 'DestAirportID',\n",
       "       'DestAirportSeqID', 'DestCityMarketID', 'DestCityName',\n",
       "       'DestState', 'DestStateFips', 'DestStateName', 'DestWac',\n",
       "       'DepDel15', 'DepartureDelayGroups', 'DepTimeBlk', 'TaxiOut',\n",
       "       'WheelsOff', 'WheelsOn', 'TaxiIn', 'CRSArrTime', 'ArrDelay',\n",
       "       'ArrDel15', 'ArrivalDelayGroups', 'ArrTimeBlk', 'DistanceGroup',\n",
       "       'DivAirportLandings'], dtype=object)"
      ]
     },
     "execution_count": 3,
     "metadata": {},
     "output_type": "execute_result"
    }
   ],
   "source": [
    "# And see what columns we are working with:\n",
    "flights.columns.values"
   ]
  },
  {
   "attachments": {},
   "cell_type": "markdown",
   "metadata": {},
   "source": [
    "Some of these are obviously important while other are the exact opposite:\n",
    "\n",
    "Very Important:\n",
    "1. FlightDate\n",
    "2. Airline\n",
    "3. Origin\n",
    "4. Dest\n",
    "5. Cancelled\n",
    "6. Diverted\n",
    "7. CRSDepTime (scheduled dep time)\n",
    "8. DepTime (actual dep time)\n",
    "9. DepDelay\n",
    "10. CRSArrTime (scheduled arrival time)\n",
    "11. ArrTime (actual arrival time)\n",
    "12. ArrDelay\n",
    "13. Flight_Number_Operating_Airline"
   ]
  },
  {
   "cell_type": "code",
   "execution_count": 5,
   "metadata": {},
   "outputs": [
    {
     "data": {
      "text/plain": [
       "array(['FlightDate', 'Airline', 'Origin', 'Dest', 'Cancelled', 'Diverted',\n",
       "       'CRSDepTime', 'DepTime', 'DepDelay', 'CRSArrTime', 'ArrTime',\n",
       "       'ArrDelay', 'Flight_Number_Operating_Airline'], dtype=object)"
      ]
     },
     "execution_count": 5,
     "metadata": {},
     "output_type": "execute_result"
    }
   ],
   "source": [
    "# We can separate these out:\n",
    "\n",
    "important_columns = [\"FlightDate\",\n",
    "                     \"Airline\",\n",
    "                     \"Origin\",\n",
    "                     \"Dest\",\n",
    "                     \"Cancelled\",\n",
    "                     \"Diverted\",\n",
    "                     \"CRSDepTime\",\n",
    "                     \"DepTime\",\n",
    "                     \"DepDelay\",\n",
    "                     \"CRSArrTime\",\n",
    "                     \"ArrTime\",\n",
    "                     \"ArrDelay\",\n",
    "                     \"Flight_Number_Operating_Airline\"]\n",
    "\n",
    "flight_data = flights[important_columns]\n",
    "\n",
    "flight_data.columns.values"
   ]
  },
  {
   "cell_type": "code",
   "execution_count": 6,
   "metadata": {},
   "outputs": [],
   "source": [
    "# And save as new file\n",
    "\n",
    "flight_data.to_parquet('../../dataset/flight-data.parquet')"
   ]
  },
  {
   "attachments": {},
   "cell_type": "markdown",
   "metadata": {},
   "source": [
    "# Needed links\n",
    "\n",
    "https://stackoverflow.com/questions/34682828/extracting-specific-selected-columns-to-new-dataframe-as-a-copy\n",
    "https://pandas.pydata.org/pandas-docs/version/1.1/reference/api/pandas.DataFrame.to_parquet.html"
   ]
  }
 ],
 "metadata": {
  "kernelspec": {
   "display_name": "base",
   "language": "python",
   "name": "python3"
  },
  "language_info": {
   "codemirror_mode": {
    "name": "ipython",
    "version": 3
   },
   "file_extension": ".py",
   "mimetype": "text/x-python",
   "name": "python",
   "nbconvert_exporter": "python",
   "pygments_lexer": "ipython3",
   "version": "3.10.9"
  },
  "orig_nbformat": 4
 },
 "nbformat": 4,
 "nbformat_minor": 2
}
