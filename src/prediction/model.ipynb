{
 "cells": [
  {
   "attachments": {},
   "cell_type": "markdown",
   "metadata": {},
   "source": [
    "# Prediction Model\n",
    "\n",
    "After `data-cleanup` we now have the task of predicting if a flight will be canceled according to these features:\n",
    "1. Flight Date\n",
    "2. Airline\n",
    "3. Origin\n",
    "4. Destination\n",
    "5. Departure Time (Scheduled)\n",
    "6. Arrival Time (Scheduled)\n",
    "\n",
    "These are less features than"
   ]
  },
  {
   "cell_type": "code",
   "execution_count": 8,
   "metadata": {},
   "outputs": [],
   "source": [
    "import pandas as pd\n",
    "import numpy as np\n",
    "import xgboost as xgb\n",
    "\n",
    "from sklearn import metrics\n",
    "from sklearn.model_selection import train_test_split"
   ]
  },
  {
   "cell_type": "code",
   "execution_count": 9,
   "metadata": {},
   "outputs": [],
   "source": [
    "# Lets load the dataset:\n",
    "flights = pd.read_parquet(\"../../dataset/flight-data.parquet\")"
   ]
  },
  {
   "cell_type": "code",
   "execution_count": 10,
   "metadata": {},
   "outputs": [],
   "source": [
    "# Prepare it:\n",
    "# When categorical type is supplied, The experimental DMatrix parameter`enable_categorical` must be set to `True`.  Invalid columns:\n",
    "# FlightDate: datetime64[ns], Operating_Airline: object, Origin: object, Dest: object\n",
    "\n",
    "categorical = ['FlightDate', 'Operating_Airline', 'Origin', 'Dest']\n",
    "flights[categorical] = flights[categorical].apply(lambda x: x.astype('category'))\n",
    "\n",
    "x = flights[['FlightDate', 'Operating_Airline', 'Origin', 'Dest', 'CRSDepTime', 'CRSArrTime']]\n",
    "y = flights['Cancelled']\n",
    "\n",
    "x_train, x_test, y_train, y_test = train_test_split(x, y, test_size=0.3)"
   ]
  },
  {
   "cell_type": "code",
   "execution_count": 11,
   "metadata": {},
   "outputs": [],
   "source": [
    "# With this we can define and fit the model:\n",
    "\n",
    "model = xgb.XGBClassifier(tree_method=\"hist\", enable_categorical=True)\n",
    "model.fit(x_train, y_train)\n",
    "\n",
    "model.save_model(\"model.json\")"
   ]
  },
  {
   "cell_type": "code",
   "execution_count": 12,
   "metadata": {},
   "outputs": [],
   "source": [
    "graph = xgb.to_graphviz(model, num_trees=1)"
   ]
  },
  {
   "attachments": {},
   "cell_type": "markdown",
   "metadata": {},
   "source": [
    "https://xgboost.readthedocs.io/en/stable/tutorials/categorical.html\n",
    "https://graphviz.readthedocs.io/en/stable/manual.html\n",
    "https://stackoverflow.com/questions/33433274/anaconda-graphviz-cant-import-after-installation\n",
    "https://stackoverflow.com/questions/30991532/converting-multiple-columns-to-categories-in-pandas-apply"
   ]
  },
  {
   "cell_type": "code",
   "execution_count": 13,
   "metadata": {},
   "outputs": [
    {
     "data": {
      "text/plain": [
       "'model-render/Source.gv.pdf'"
      ]
     },
     "execution_count": 13,
     "metadata": {},
     "output_type": "execute_result"
    }
   ],
   "source": [
    "graph.render(directory='model-render')"
   ]
  }
 ],
 "metadata": {
  "kernelspec": {
   "display_name": "cen16-dev",
   "language": "python",
   "name": "python3"
  },
  "language_info": {
   "codemirror_mode": {
    "name": "ipython",
    "version": 3
   },
   "file_extension": ".py",
   "mimetype": "text/x-python",
   "name": "python",
   "nbconvert_exporter": "python",
   "pygments_lexer": "ipython3",
   "version": "3.10.9"
  },
  "orig_nbformat": 4
 },
 "nbformat": 4,
 "nbformat_minor": 2
}
