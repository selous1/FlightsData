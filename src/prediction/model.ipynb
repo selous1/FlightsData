{
 "cells": [
  {
   "attachments": {},
   "cell_type": "markdown",
   "metadata": {},
   "source": [
    "# Prediction Model\n",
    "\n",
    "After `data-cleanup` we now have the task of predicting if a flight will be canceled according to these features:\n",
    "1. Flight Date\n",
    "2. Airline\n",
    "3. Origin\n",
    "4. Destination\n",
    "5. Departure Time (Scheduled)\n",
    "6. Arrival Time (Scheduled)\n",
    "\n",
    "These are less features than"
   ]
  },
  {
   "cell_type": "code",
   "execution_count": 1,
   "metadata": {},
   "outputs": [],
   "source": [
    "import pandas as pd\n",
    "import numpy as np\n",
    "import xgboost as xg\n",
    "\n",
    "from sklearn import metrics\n",
    "from sklearn.model_selection import train_test_split"
   ]
  },
  {
   "cell_type": "code",
   "execution_count": 2,
   "metadata": {},
   "outputs": [],
   "source": [
    "# Lets load the dataset:\n",
    "flights = pd.read_parquet(\"../../dataset/flight-data.parquet\")"
   ]
  },
  {
   "cell_type": "code",
   "execution_count": 3,
   "metadata": {},
   "outputs": [
    {
     "data": {
      "text/plain": [
       "{'9E',\n",
       " 'AA',\n",
       " 'AS',\n",
       " 'B6',\n",
       " 'C5',\n",
       " 'DL',\n",
       " 'EM',\n",
       " 'F9',\n",
       " 'G4',\n",
       " 'G7',\n",
       " 'HA',\n",
       " 'MQ',\n",
       " 'NK',\n",
       " 'OH',\n",
       " 'OO',\n",
       " 'PT',\n",
       " 'QX',\n",
       " 'UA',\n",
       " 'WN',\n",
       " 'YV',\n",
       " 'YX',\n",
       " 'ZW'}"
      ]
     },
     "execution_count": 3,
     "metadata": {},
     "output_type": "execute_result"
    }
   ],
   "source": [
    "# Prepare it:\n",
    "\n"
   ]
  }
 ],
 "metadata": {
  "kernelspec": {
   "display_name": "cen16-dev",
   "language": "python",
   "name": "python3"
  },
  "language_info": {
   "codemirror_mode": {
    "name": "ipython",
    "version": 3
   },
   "file_extension": ".py",
   "mimetype": "text/x-python",
   "name": "python",
   "nbconvert_exporter": "python",
   "pygments_lexer": "ipython3",
   "version": "3.10.9"
  },
  "orig_nbformat": 4
 },
 "nbformat": 4,
 "nbformat_minor": 2
}
